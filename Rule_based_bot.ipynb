{
  "nbformat": 4,
  "nbformat_minor": 0,
  "metadata": {
    "colab": {
      "provenance": []
    },
    "kernelspec": {
      "name": "python3",
      "display_name": "Python 3"
    },
    "language_info": {
      "name": "python"
    }
  },
  "cells": [
    {
      "cell_type": "code",
      "source": [
        "import re\n",
        "import random\n",
        "\n",
        "class RuleBot:\n",
        "  ### Potential Negative  Rsponses\n",
        "  negative_responses = (\"no\",\"nope\",\"nah\",\"naw\",\"not a chance\",\"sorry\")\n",
        "  ### Exit conversation Keywords\n",
        "  exit_conversation_keywords = (\"bye\",\"goodbye\",\"quit\",\"exit\",\"pause\",\"later\") #Renamed variable to match usage\n",
        "  ### Random starter questions\n",
        "  random_questions = (\n",
        "       \"Why are you here?\",\n",
        "       \"Are there many humans like you?\",\n",
        "       \"What do you consume for sustenance?\",\n",
        "       \"Is there intelligent life on this planet?\",\n",
        "       \"Does earth have a leader?\",\n",
        "       \"What planets have you visited?\",\n",
        "       \"What technology do you have on this planet?\",\n",
        "       )\n",
        "\n",
        "  def __init__(self,name):\n",
        "    self.alienbabble = {'describe_planet_intent': r'.*\\s*your planet.*',\n",
        "'answer_why_intent': r'why\\sare.*',\n",
        "                        'about_mrigank': r'.*\\s*mrigank',\n",
        "                        'about_session':r'.*\\s*session'\n",
        "                        }\n",
        "  def greet(self):\n",
        "         self.name = input(\"What is your name?\\n\")\n",
        "         will_help = input(f\"Hi{self.name}, I am Rule Bot. Will you help me learn about your planet?\\n\")\n",
        "         if will_help in self.negative_responses:\n",
        "             print(\"Ok,have a nice Earth day!\")\n",
        "             return\n",
        "         self.chat()\n",
        "  def make_exit(self, reply):\n",
        "       for command in self.exit_conversation_keywords: # Use the correct attribute name here\n",
        "            if reply == command:\n",
        "                print(\"Ok,have a nice Earth day!\")\n",
        "                return True\n",
        "  def chat(self):\n",
        "       reply = input(random.choice(self.random_questions)).lower()\n",
        "       while not self.make_exit(reply):\n",
        "              reply = input(self.match_reply(reply))\n",
        "\n",
        "  def match_reply(self, reply):\n",
        "        for key, value in self.alienbabble.items():\n",
        "            intent = key\n",
        "            regex_pattern = value\n",
        "            found_match = re.match(regex_pattern, reply)\n",
        "            if found_match and intent == 'describe_planet_intent':\n",
        "                return self.describe_planet_intent()\n",
        "            elif found_match and intent == 'answer_why_intent':\n",
        "                return self.answer_why_intent()\n",
        "            elif found_match and intent == 'about_mrigank':\n",
        "                return self.about_mrigank()\n",
        "            elif found_match and intent == 'about_session':\n",
        "                return self.about_session()\n",
        "        if not found_match:\n",
        "            return self.default_response() # Call the correct method name\n",
        "\n",
        "  def describe_planet_intent(self):\n",
        "      responses = (\"My Planet is a utopia of diverse organisms and species.\\n\",\n",
        "                   \"I am from Opidius, the capital of the Wayward Glaxies.\\n\")\n",
        "      return random.choice(responses)\n",
        "\n",
        "  def answer_why_intent(self):\n",
        "     responses = (\"I come in peace\\n\",\"I am here to collect data on your planet and its inhabitants\\n\",\n",
        "                  \"I heard the coffee is good\\n\")\n",
        "     return random.choice(responses)\n",
        "\n",
        "  def about_mrigank(self):\n",
        "     responses = (\"Mrigank is a undergraduate student\\n\", \"I currenty pursuing B.Tech from Central University of Jammu\\n\")\n",
        "     return \"Mrigank is a good person\\n, His persionality is great\"\n",
        "\n",
        "  def about_session(self):\n",
        "      responses = ('Session is on 22 Aug 2024\\n','Session was cool')\n",
        "      return random.choice(responses)\n",
        "\n",
        "  def default_response(self): # Renamed method to match usage\n",
        "     responses = (\n",
        "         \"Please tell me more.\\n\",\"Tell me more!\\n\",\"Why do you say that?\\n\",\n",
        "         \"I see.Can you elaborate on that?\\n\",\n",
        "         \"Interesting. Can you tell me more?\\n\",\n",
        "         \"Interesting. What else do you think?\\n\",\n",
        "     )\n",
        "     return random.choice(responses)\n",
        "\n",
        "AlienBot = RuleBot(\"Alien\")\n",
        "AlienBot.greet()"
      ],
      "metadata": {
        "colab": {
          "base_uri": "https://localhost:8080/",
          "height": 564
        },
        "id": "e-BaUTXTuYYV",
        "outputId": "1e816146-6be8-4035-9871-7fbfa56c528a"
      },
      "execution_count": 15,
      "outputs": [
        {
          "name": "stdout",
          "output_type": "stream",
          "text": [
            "What is your name?\n",
            "Pavitra\n",
            "HiPavitra, I am Rule Bot. Will you help me learn about your planet?\n",
            "Yes\n",
            "Does earth have a leader?Yes\n",
            "Please tell me more.\n",
            "Tell me session\n",
            "Session was coolOk \n",
            "Interesting. Can you tell me more?\n",
            "yes I am bored\n",
            "I see.Can you elaborate on that?\n",
            "Yes My partner always on angry mode\n",
            "Tell me more!\n",
            "Sometimes she blocks me \n"
          ]
        },
        {
          "output_type": "error",
          "ename": "KeyboardInterrupt",
          "evalue": "Interrupted by user",
          "traceback": [
            "\u001b[0;31m---------------------------------------------------------------------------\u001b[0m",
            "\u001b[0;31mKeyboardInterrupt\u001b[0m                         Traceback (most recent call last)",
            "\u001b[0;32m<ipython-input-15-0dd57d4553e4>\u001b[0m in \u001b[0;36m<cell line: 87>\u001b[0;34m()\u001b[0m\n\u001b[1;32m     85\u001b[0m \u001b[0;34m\u001b[0m\u001b[0m\n\u001b[1;32m     86\u001b[0m \u001b[0mAlienBot\u001b[0m \u001b[0;34m=\u001b[0m \u001b[0mRuleBot\u001b[0m\u001b[0;34m(\u001b[0m\u001b[0;34m\"Alien\"\u001b[0m\u001b[0;34m)\u001b[0m\u001b[0;34m\u001b[0m\u001b[0;34m\u001b[0m\u001b[0m\n\u001b[0;32m---> 87\u001b[0;31m \u001b[0mAlienBot\u001b[0m\u001b[0;34m.\u001b[0m\u001b[0mgreet\u001b[0m\u001b[0;34m(\u001b[0m\u001b[0;34m)\u001b[0m\u001b[0;34m\u001b[0m\u001b[0;34m\u001b[0m\u001b[0m\n\u001b[0m",
            "\u001b[0;32m<ipython-input-15-0dd57d4553e4>\u001b[0m in \u001b[0;36mgreet\u001b[0;34m(self)\u001b[0m\n\u001b[1;32m     30\u001b[0m              \u001b[0mprint\u001b[0m\u001b[0;34m(\u001b[0m\u001b[0;34m\"Ok,have a nice Earth day!\"\u001b[0m\u001b[0;34m)\u001b[0m\u001b[0;34m\u001b[0m\u001b[0;34m\u001b[0m\u001b[0m\n\u001b[1;32m     31\u001b[0m              \u001b[0;32mreturn\u001b[0m\u001b[0;34m\u001b[0m\u001b[0;34m\u001b[0m\u001b[0m\n\u001b[0;32m---> 32\u001b[0;31m          \u001b[0mself\u001b[0m\u001b[0;34m.\u001b[0m\u001b[0mchat\u001b[0m\u001b[0;34m(\u001b[0m\u001b[0;34m)\u001b[0m\u001b[0;34m\u001b[0m\u001b[0;34m\u001b[0m\u001b[0m\n\u001b[0m\u001b[1;32m     33\u001b[0m   \u001b[0;32mdef\u001b[0m \u001b[0mmake_exit\u001b[0m\u001b[0;34m(\u001b[0m\u001b[0mself\u001b[0m\u001b[0;34m,\u001b[0m \u001b[0mreply\u001b[0m\u001b[0;34m)\u001b[0m\u001b[0;34m:\u001b[0m\u001b[0;34m\u001b[0m\u001b[0;34m\u001b[0m\u001b[0m\n\u001b[1;32m     34\u001b[0m        \u001b[0;32mfor\u001b[0m \u001b[0mcommand\u001b[0m \u001b[0;32min\u001b[0m \u001b[0mself\u001b[0m\u001b[0;34m.\u001b[0m\u001b[0mexit_conversation_keywords\u001b[0m\u001b[0;34m:\u001b[0m \u001b[0;31m# Use the correct attribute name here\u001b[0m\u001b[0;34m\u001b[0m\u001b[0;34m\u001b[0m\u001b[0m\n",
            "\u001b[0;32m<ipython-input-15-0dd57d4553e4>\u001b[0m in \u001b[0;36mchat\u001b[0;34m(self)\u001b[0m\n\u001b[1;32m     39\u001b[0m        \u001b[0mreply\u001b[0m \u001b[0;34m=\u001b[0m \u001b[0minput\u001b[0m\u001b[0;34m(\u001b[0m\u001b[0mrandom\u001b[0m\u001b[0;34m.\u001b[0m\u001b[0mchoice\u001b[0m\u001b[0;34m(\u001b[0m\u001b[0mself\u001b[0m\u001b[0;34m.\u001b[0m\u001b[0mrandom_questions\u001b[0m\u001b[0;34m)\u001b[0m\u001b[0;34m)\u001b[0m\u001b[0;34m.\u001b[0m\u001b[0mlower\u001b[0m\u001b[0;34m(\u001b[0m\u001b[0;34m)\u001b[0m\u001b[0;34m\u001b[0m\u001b[0;34m\u001b[0m\u001b[0m\n\u001b[1;32m     40\u001b[0m        \u001b[0;32mwhile\u001b[0m \u001b[0;32mnot\u001b[0m \u001b[0mself\u001b[0m\u001b[0;34m.\u001b[0m\u001b[0mmake_exit\u001b[0m\u001b[0;34m(\u001b[0m\u001b[0mreply\u001b[0m\u001b[0;34m)\u001b[0m\u001b[0;34m:\u001b[0m\u001b[0;34m\u001b[0m\u001b[0;34m\u001b[0m\u001b[0m\n\u001b[0;32m---> 41\u001b[0;31m               \u001b[0mreply\u001b[0m \u001b[0;34m=\u001b[0m \u001b[0minput\u001b[0m\u001b[0;34m(\u001b[0m\u001b[0mself\u001b[0m\u001b[0;34m.\u001b[0m\u001b[0mmatch_reply\u001b[0m\u001b[0;34m(\u001b[0m\u001b[0mreply\u001b[0m\u001b[0;34m)\u001b[0m\u001b[0;34m)\u001b[0m\u001b[0;34m\u001b[0m\u001b[0;34m\u001b[0m\u001b[0m\n\u001b[0m\u001b[1;32m     42\u001b[0m \u001b[0;34m\u001b[0m\u001b[0m\n\u001b[1;32m     43\u001b[0m   \u001b[0;32mdef\u001b[0m \u001b[0mmatch_reply\u001b[0m\u001b[0;34m(\u001b[0m\u001b[0mself\u001b[0m\u001b[0;34m,\u001b[0m \u001b[0mreply\u001b[0m\u001b[0;34m)\u001b[0m\u001b[0;34m:\u001b[0m\u001b[0;34m\u001b[0m\u001b[0;34m\u001b[0m\u001b[0m\n",
            "\u001b[0;32m/usr/local/lib/python3.10/dist-packages/ipykernel/kernelbase.py\u001b[0m in \u001b[0;36mraw_input\u001b[0;34m(self, prompt)\u001b[0m\n\u001b[1;32m    849\u001b[0m                 \u001b[0;34m\"raw_input was called, but this frontend does not support input requests.\"\u001b[0m\u001b[0;34m\u001b[0m\u001b[0;34m\u001b[0m\u001b[0m\n\u001b[1;32m    850\u001b[0m             )\n\u001b[0;32m--> 851\u001b[0;31m         return self._input_request(str(prompt),\n\u001b[0m\u001b[1;32m    852\u001b[0m             \u001b[0mself\u001b[0m\u001b[0;34m.\u001b[0m\u001b[0m_parent_ident\u001b[0m\u001b[0;34m,\u001b[0m\u001b[0;34m\u001b[0m\u001b[0;34m\u001b[0m\u001b[0m\n\u001b[1;32m    853\u001b[0m             \u001b[0mself\u001b[0m\u001b[0;34m.\u001b[0m\u001b[0m_parent_header\u001b[0m\u001b[0;34m,\u001b[0m\u001b[0;34m\u001b[0m\u001b[0;34m\u001b[0m\u001b[0m\n",
            "\u001b[0;32m/usr/local/lib/python3.10/dist-packages/ipykernel/kernelbase.py\u001b[0m in \u001b[0;36m_input_request\u001b[0;34m(self, prompt, ident, parent, password)\u001b[0m\n\u001b[1;32m    893\u001b[0m             \u001b[0;32mexcept\u001b[0m \u001b[0mKeyboardInterrupt\u001b[0m\u001b[0;34m:\u001b[0m\u001b[0;34m\u001b[0m\u001b[0;34m\u001b[0m\u001b[0m\n\u001b[1;32m    894\u001b[0m                 \u001b[0;31m# re-raise KeyboardInterrupt, to truncate traceback\u001b[0m\u001b[0;34m\u001b[0m\u001b[0;34m\u001b[0m\u001b[0m\n\u001b[0;32m--> 895\u001b[0;31m                 \u001b[0;32mraise\u001b[0m \u001b[0mKeyboardInterrupt\u001b[0m\u001b[0;34m(\u001b[0m\u001b[0;34m\"Interrupted by user\"\u001b[0m\u001b[0;34m)\u001b[0m \u001b[0;32mfrom\u001b[0m \u001b[0;32mNone\u001b[0m\u001b[0;34m\u001b[0m\u001b[0;34m\u001b[0m\u001b[0m\n\u001b[0m\u001b[1;32m    896\u001b[0m             \u001b[0;32mexcept\u001b[0m \u001b[0mException\u001b[0m \u001b[0;32mas\u001b[0m \u001b[0me\u001b[0m\u001b[0;34m:\u001b[0m\u001b[0;34m\u001b[0m\u001b[0;34m\u001b[0m\u001b[0m\n\u001b[1;32m    897\u001b[0m                 \u001b[0mself\u001b[0m\u001b[0;34m.\u001b[0m\u001b[0mlog\u001b[0m\u001b[0;34m.\u001b[0m\u001b[0mwarning\u001b[0m\u001b[0;34m(\u001b[0m\u001b[0;34m\"Invalid Message:\"\u001b[0m\u001b[0;34m,\u001b[0m \u001b[0mexc_info\u001b[0m\u001b[0;34m=\u001b[0m\u001b[0;32mTrue\u001b[0m\u001b[0;34m)\u001b[0m\u001b[0;34m\u001b[0m\u001b[0;34m\u001b[0m\u001b[0m\n",
            "\u001b[0;31mKeyboardInterrupt\u001b[0m: Interrupted by user"
          ]
        }
      ]
    }
  ]
}